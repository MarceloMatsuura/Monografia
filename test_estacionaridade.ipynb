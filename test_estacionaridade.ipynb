{
 "cells": [
  {
   "cell_type": "code",
   "execution_count": 6,
   "metadata": {},
   "outputs": [],
   "source": [
    "import pandas as pd\n",
    "from statsmodels.tsa.stattools import adfuller\n",
    "from IPython.display import display\n",
    "import os"
   ]
  },
  {
   "cell_type": "code",
   "execution_count": null,
   "metadata": {},
   "outputs": [],
   "source": [
    "#CARREGANDO A BASE DE DADOS\n",
    "\n",
    "data = pd.read_excel('data/base_dados_modelo.xlsx')\n",
    "\n",
    "cols_select = ['date', 'selic', 'acum_12_meses', 'meta_inflacao', 'meta_modificada',\n",
    "               'JUROS_NATURAL', 'REER', 'IBC_BR', 'COMMODITIES', 'EXP_PIB',\n",
    "               'EXP_INF', 'gap_inflacao', 'LOSS_12']\n",
    "\n",
    "#CRIANDO A FUNÇÃO PARA FAZER A TABELA  DE RESULTADO DO TESTE DE ESTACIONARIDADE\n",
    "\n",
    "def adf_test_results(data):\n",
    "    cols_select = ['date', 'selic', 'acum_12_meses', 'meta_inflacao', 'meta_modificada',\n",
    "                   'JUROS_NATURAL', 'REER', 'IBC_BR', 'COMMODITIES', 'EXP_PIB',\n",
    "                   'EXP_INF', 'gap_inflacao', 'LOSS_12']\n",
    "\n",
    "    data = data[cols_select].dropna()\n",
    "\n",
    "    \n",
    "    data['DATE'] = pd.to_datetime(data['date'])\n",
    "\n",
    "    # Criando a variável de expectativa do PIB\n",
    "    data_model = data.copy()\n",
    "    data_model['EXP_GAP_INF'] = data_model['EXP_INF'] - data_model['meta_modificada']\n",
    "    data_model = data_model.dropna()\n",
    "\n",
    "    columns_to_test = [\"selic\", \"JUROS_NATURAL\", \"gap_inflacao\", \"EXP_GAP_INF\",\n",
    "                       \"EXP_PIB\", \"LOSS_12\"]\n",
    "    \n",
    "    dict_replace = {\"selic\":\"Selic\", \n",
    "                                \"JUROS_NATURAL\":\"Tx. Juros Natural\",\n",
    "                                \"EXP_GAP_INF\": \"Gap de Inf Esperada\",\n",
    "                                \"EXP_PIB\":\"Expectativa PIB\",\n",
    "                                \"LOSS_12\":\"Perda de Credibilidade\"}\n",
    "    \n",
    "    ts_data_sub = data_model.set_index('date')[columns_to_test]\n",
    "\n",
    "    ts_data_sub.rename(columns=dict_replace, inplace=True)\n",
    "\n",
    "    def run_adf_test(series, variable_name):\n",
    "        result = adfuller(series, maxlag=1, regression='n')\n",
    "        return {\n",
    "            'Variável': variable_name,\n",
    "            'Estatística de Teste': round(result[0], 3),\n",
    "            'Significância': '***' if result[1] < 0.001 else ('**' if result[1] < 0.01 else ('*' if result[1] < 0.05 else ''))\n",
    "        }\n",
    "\n",
    "    results_list = [run_adf_test(ts_data_sub[var], var) for var in dict_replace.values()]\n",
    "\n",
    "    \n",
    "    df_resultados = pd.DataFrame(results_list)\n",
    "    df_resultados = df_resultados[['Variável', 'Estatística de Teste', 'Significância']]\n",
    "\n",
    "    display(df_resultados)\n",
    "\n",
    "    notes = [\n",
    "        \"Notas: A tabela mostra os resultados do teste ADF (Augmented Dickey-Fuller).\",\n",
    "        \"Estatísticas de teste e níveis de significância são reportados.\",\n",
    "        \"* p < 0.05, ** p < 0.01, *** p < 0.001\"\n",
    "    ]\n",
    "    for note in notes:\n",
    "        print(note)"
   ]
  },
  {
   "cell_type": "markdown",
   "metadata": {},
   "source": [
    "# Teste de estacionaridade\n",
    "\n",
    "Esta tabela apresenta os resultados para o teste ADF (Augmented Dick-Fuller), todas as variávies, exceto a expectativa do PIB são estacionárias, portanto os modelos serão estimados em nível."
   ]
  },
  {
   "cell_type": "code",
   "execution_count": null,
   "metadata": {},
   "outputs": [
    {
     "data": {
      "text/html": [
       "<div>\n",
       "<style scoped>\n",
       "    .dataframe tbody tr th:only-of-type {\n",
       "        vertical-align: middle;\n",
       "    }\n",
       "\n",
       "    .dataframe tbody tr th {\n",
       "        vertical-align: top;\n",
       "    }\n",
       "\n",
       "    .dataframe thead th {\n",
       "        text-align: right;\n",
       "    }\n",
       "</style>\n",
       "<table border=\"1\" class=\"dataframe\">\n",
       "  <thead>\n",
       "    <tr style=\"text-align: right;\">\n",
       "      <th></th>\n",
       "      <th>Variável</th>\n",
       "      <th>Estatística de Teste</th>\n",
       "      <th>Significância</th>\n",
       "    </tr>\n",
       "  </thead>\n",
       "  <tbody>\n",
       "    <tr>\n",
       "      <th>0</th>\n",
       "      <td>Selic</td>\n",
       "      <td>-2.567</td>\n",
       "      <td>**</td>\n",
       "    </tr>\n",
       "    <tr>\n",
       "      <th>1</th>\n",
       "      <td>Tx. Juros Natural</td>\n",
       "      <td>-11.642</td>\n",
       "      <td>***</td>\n",
       "    </tr>\n",
       "    <tr>\n",
       "      <th>2</th>\n",
       "      <td>Gap de Inf Esperada</td>\n",
       "      <td>-4.102</td>\n",
       "      <td>***</td>\n",
       "    </tr>\n",
       "    <tr>\n",
       "      <th>3</th>\n",
       "      <td>Expectativa PIB</td>\n",
       "      <td>-0.941</td>\n",
       "      <td></td>\n",
       "    </tr>\n",
       "    <tr>\n",
       "      <th>4</th>\n",
       "      <td>Perda de Credibilidade</td>\n",
       "      <td>-8.090</td>\n",
       "      <td>***</td>\n",
       "    </tr>\n",
       "  </tbody>\n",
       "</table>\n",
       "</div>"
      ],
      "text/plain": [
       "                 Variável  Estatística de Teste Significância\n",
       "0                   Selic                -2.567            **\n",
       "1       Tx. Juros Natural               -11.642           ***\n",
       "2     Gap de Inf Esperada                -4.102           ***\n",
       "3         Expectativa PIB                -0.941              \n",
       "4  Perda de Credibilidade                -8.090           ***"
      ]
     },
     "metadata": {},
     "output_type": "display_data"
    },
    {
     "name": "stdout",
     "output_type": "stream",
     "text": [
      "Notas: A tabela mostra os resultados do teste ADF (Augmented Dickey-Fuller).\n",
      "Estatísticas de teste e níveis de significância são reportados.\n",
      "* p < 0.05, ** p < 0.01, *** p < 0.001\n"
     ]
    }
   ],
   "source": [
    "adf_test_results(data)"
   ]
  }
 ],
 "metadata": {
  "kernelspec": {
   "display_name": "research",
   "language": "python",
   "name": "python3"
  },
  "language_info": {
   "codemirror_mode": {
    "name": "ipython",
    "version": 3
   },
   "file_extension": ".py",
   "mimetype": "text/x-python",
   "name": "python",
   "nbconvert_exporter": "python",
   "pygments_lexer": "ipython3",
   "version": "3.9.18"
  }
 },
 "nbformat": 4,
 "nbformat_minor": 2
}

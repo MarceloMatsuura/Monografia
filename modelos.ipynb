{
 "cells": [
  {
   "cell_type": "code",
   "execution_count": 131,
   "metadata": {},
   "outputs": [],
   "source": [
    "import pandas as pd\n",
    "from linearmodels import IVGMM, OLS\n",
    "from linearmodels.iv.results import compare\n",
    "\n",
    "\n",
    "# Read Excel file into a DataFrame\n",
    "data = pd.read_excel('data/base_dados_modelo.xlsx')\n",
    "\n",
    "colunas_modelos = [\"date\", \"selic\", \"JUROS_NATURAL\", \"COMMODITIES\",\n",
    "                   \"IBC_BR\", \"gap_inflacao\", \"GAP_EXP_INF\", \"EXP_PIB\",\n",
    "                   'selic_lag1', 'selic_lag2', 'selic_lag3', 'selic_lag4',\n",
    "                   'IBC_BR_lag1', 'IBC_BR_lag2', 'IBC_BR_lag3', 'IBC_BR_lag4',\n",
    "                   'COMMODITIES_lag1', 'COMMODITIES_lag2', 'COMMODITIES_lag3',\n",
    "                   'COMMODITIES_lag4', 'gap_inflacao_lag1', 'gap_inflacao_lag2',\n",
    "                   'gap_inflacao_lag3', 'gap_inflacao_lag4', 'LOSS_12',\n",
    "                   'LOSS_24', 'LOSS_36', 'LOSS_48', \"LOSS_60\"]\n",
    "\n",
    "data_model = data[colunas_modelos]\n",
    "\n",
    "# Drop rows with missing values\n",
    "data_model = data_model.dropna()\n",
    "\n",
    "# MODELO 1\n",
    "m1_lm_formula = 'selic ~ JUROS_NATURAL + gap_inflacao + LOSS_12 - 1'\n",
    "m1_lm = OLS.from_formula(m1_lm_formula, data=data_model).fit()\n",
    "\n",
    "m1_gmm_formula = 'selic ~ [JUROS_NATURAL + gap_inflacao + LOSS_12 - 1 ~ selic_lag1 + selic_lag2 + selic_lag3 + IBC_BR_lag1 + IBC_BR_lag2 + IBC_BR_lag3 + COMMODITIES_lag1 + COMMODITIES_lag2 + COMMODITIES_lag3]'\n",
    "m1_gmm = IVGMM.from_formula(m1_gmm_formula, data=data_model, weight_type='robust').fit()\n",
    "\n",
    "# MODELO 2\n",
    "m2_lm_formula = 'selic ~ selic_lag1 + JUROS_NATURAL + GAP_EXP_INF +  EXP_PIB + LOSS_12-1'\n",
    "m2_lm = OLS.from_formula(m2_lm_formula, data=data_model).fit()\n",
    "\n",
    "m2_gmm_formula = 'selic ~ [selic_lag1 + JUROS_NATURAL + GAP_EXP_INF +  EXP_PIB + LOSS_12 -1 ~ selic_lag1+ selic_lag2+selic_lag3+selic_lag4  + IBC_BR_lag1+IBC_BR_lag2+IBC_BR_lag3+ IBC_BR_lag4 +COMMODITIES_lag1+ COMMODITIES_lag2 +COMMODITIES_lag3+ COMMODITIES_lag4+gap_inflacao_lag1+gap_inflacao_lag2+gap_inflacao_lag3+gap_inflacao_lag4-1]'\n",
    "m2_gmm = IVGMM.from_formula(m2_gmm_formula, data=data_model, weight_type='robust').fit()\n",
    "\n",
    "# MODELO 3\n",
    "\n",
    "data_model['NEG_CRED'] = (data_model['LOSS_12'] < 0).astype(int)\n",
    "data_model['POS_CRED'] = (data_model['LOSS_12'] > 0).astype(int)\n",
    "\n",
    "m3_lm_formula = 'selic ~ selic_lag1 + JUROS_NATURAL + GAP_EXP_INF + EXP_PIB + LOSS_12:POS_CRED + NEG_CRED:LOSS_12 - 1'\n",
    "m3_lm = OLS.from_formula(m3_lm_formula, data=data_model).fit()\n",
    "\n",
    "m3_gmm_formula = 'selic ~ [selic_lag1 + JUROS_NATURAL + GAP_EXP_INF + EXP_PIB + LOSS_12:POS_CRED + NEG_CRED:LOSS_12 - 1 ~ selic_lag1+ selic_lag2+selic_lag3+selic_lag4  + IBC_BR_lag1+IBC_BR_lag2+IBC_BR_lag3+ IBC_BR_lag4 +COMMODITIES_lag1+ COMMODITIES_lag2 +COMMODITIES_lag3+ COMMODITIES_lag4+gap_inflacao_lag1+gap_inflacao_lag2+gap_inflacao_lag3+gap_inflacao_lag4]'\n",
    "m3_gmm = IVGMM.from_formula(m3_gmm_formula, data=data_model, weight_type='robust').fit()\n",
    "\n"
   ]
  },
  {
   "cell_type": "code",
   "execution_count": 132,
   "metadata": {},
   "outputs": [],
   "source": [
    "m1_comparison_table = compare({'OLS': m1_lm, 'IV-GMM': m1_gmm}, stars=True)\n",
    "m2_comparison_table = compare({'OLS': m2_lm, 'IV-GMM': m2_gmm}, stars=True)\n",
    "m3_comparison_table = compare({'OLS': m3_lm, 'IV-GMM': m3_gmm}, stars=True)\n"
   ]
  },
  {
   "cell_type": "markdown",
   "metadata": {},
   "source": [
    "# Modelo teórico derivado\n",
    "\n",
    "Esta tabela mostra os resultados para o modelo teórico derivado, observa-se que para os dois métodos de estimação o coeficiente associado a perda de credibilidade é positivo e estatisticamente significante. Além disso, pode-se observar que o gap de inflação também tem as mesmas características. Esses resultados comprovam a ideia de que o BC aumenta a taxa de juros quando a inflação está acima da meta e, como o modelo teórico demonstra, a autoridade monetária busca compensar perdas de credibilidade com taxas de juros maiores.\n"
   ]
  },
  {
   "cell_type": "code",
   "execution_count": 128,
   "metadata": {},
   "outputs": [
    {
     "name": "stdout",
     "output_type": "stream",
     "text": [
      "                   Model Comparison                  \n",
      "=====================================================\n",
      "                               OLS             IV-GMM\n",
      "-----------------------------------------------------\n",
      "Dep. Variable                selic              selic\n",
      "Estimator                      OLS             IV-GMM\n",
      "No. Observations               186                186\n",
      "Cov. Est.                   robust             robust\n",
      "R-squared                   0.9835             0.9731\n",
      "Adj. R-squared              0.9832             0.9726\n",
      "F-statistic                 9745.3             5470.3\n",
      "P-value (F-stat)            0.0000             0.0000\n",
      "==================     ===========        ===========\n",
      "JUROS_NATURAL            2.1348***          2.0094***\n",
      "                          (83.127)           (34.676)\n",
      "gap_inflacao             0.4998***          0.5302***\n",
      "                          (5.5111)           (4.2301)\n",
      "LOSS_12                  0.1390***          0.3050***\n",
      "                          (5.0970)           (4.3303)\n",
      "==================== ============= ==================\n",
      "Instruments                                selic_lag1\n",
      "                                           selic_lag2\n",
      "                                           selic_lag3\n",
      "                                          IBC_BR_lag1\n",
      "                                          IBC_BR_lag2\n",
      "                                          IBC_BR_lag3\n",
      "                                     COMMODITIES_lag1\n",
      "                                     COMMODITIES_lag2\n",
      "                                     COMMODITIES_lag3\n",
      "-----------------------------------------------------\n",
      "\n",
      "T-stats reported in parentheses\n"
     ]
    }
   ],
   "source": [
    "print(m1_comparison_table)"
   ]
  },
  {
   "cell_type": "markdown",
   "metadata": {},
   "source": [
    "# Modelo forward looking com suavização\n",
    "\n",
    "Esta tabela mostra os resultados para o modelo forward looking com suavização. A variável de gap de inflação esperada é estatisticamente significante para os dois métodos, indicando que o BC de fato segue uma regra forward looking. O componente de suavização apresenta um valor elevado em ambas as estimativas, indicando um alto grau de suavização da Selic. O coeficiente associado a variável Perda de Credibilidade se mostra significante, porém com valor negativo, algo que não era esperado. Uma possível explicação para isso é que uma memória de 12 meses é muita pequena para ter algum efeito nas decisões do BC\n"
   ]
  },
  {
   "cell_type": "code",
   "execution_count": 129,
   "metadata": {},
   "outputs": [
    {
     "name": "stdout",
     "output_type": "stream",
     "text": [
      "                    Model Comparison                   \n",
      "=======================================================\n",
      "                                OLS              IV-GMM\n",
      "-------------------------------------------------------\n",
      "Dep. Variable                 selic               selic\n",
      "Estimator                       OLS              IV-GMM\n",
      "No. Observations                186                 186\n",
      "Cov. Est.                    robust              robust\n",
      "R-squared                    0.9995              0.9971\n",
      "Adj. R-squared               0.9995              0.9970\n",
      "F-statistic               3.854e+05           8.729e+04\n",
      "P-value (F-stat)             0.0000              0.0000\n",
      "==================     ============        ============\n",
      "selic_lag1                0.9688***           1.1848***\n",
      "                           (77.927)            (14.054)\n",
      "JUROS_NATURAL               0.0675*           -0.7814**\n",
      "                           (1.7852)           (-2.4883)\n",
      "GAP_EXP_INF               0.2098***           0.7008***\n",
      "                           (8.8685)            (5.7030)\n",
      "EXP_PIB                     -0.0313            0.5155**\n",
      "                          (-1.1851)            (2.3949)\n",
      "LOSS_12                  -0.0091***          -0.0611***\n",
      "                          (-2.7864)           (-3.2798)\n",
      "==================== ============== ===================\n",
      "Instruments                                  selic_lag1\n",
      "                                             selic_lag2\n",
      "                                             selic_lag3\n",
      "                                             selic_lag4\n",
      "                                            IBC_BR_lag1\n",
      "                                            IBC_BR_lag2\n",
      "                                            IBC_BR_lag3\n",
      "                                            IBC_BR_lag4\n",
      "                                       COMMODITIES_lag1\n",
      "                                       COMMODITIES_lag2\n",
      "                                       COMMODITIES_lag3\n",
      "                                       COMMODITIES_lag4\n",
      "                                      gap_inflacao_lag1\n",
      "                                      gap_inflacao_lag2\n",
      "                                      gap_inflacao_lag3\n",
      "                                      gap_inflacao_lag4\n",
      "-------------------------------------------------------\n",
      "\n",
      "T-stats reported in parentheses\n"
     ]
    }
   ],
   "source": [
    "print(m2_comparison_table)"
   ]
  },
  {
   "cell_type": "markdown",
   "metadata": {},
   "source": [
    "# Modelo forward looking com assimetria\n",
    "\n",
    "Esta tabela mostra os resultados do modelo com assimetria na reação do BC, novamente verificamos que o componente de suavização é significativo nos dois modelos. Assim como o coeficiente associado a variável de expectativa da inflação que caracteriza o comportamento forward looking do BC.\n",
    "O coeficiente referente a variável de expectativa de inflação, é estatisticamente significante e positivo, indicando que uma regra forward looking parece ser uma boa representação de como o BC toma suas decisões. Por outro lado, apesar de estatisticamente significantes, os coeficientes associados a perdas de credibilidade positiva (inflação acima da meta) são pequenos e negativos, isso pode ser um indicativo que a memória de 12 meses não é a ideal para capturar a realidade da política monetária."
   ]
  },
  {
   "cell_type": "code",
   "execution_count": 133,
   "metadata": {},
   "outputs": [
    {
     "name": "stdout",
     "output_type": "stream",
     "text": [
      "                    Model Comparison                   \n",
      "=======================================================\n",
      "                                OLS              IV-GMM\n",
      "-------------------------------------------------------\n",
      "Dep. Variable                 selic               selic\n",
      "Estimator                       OLS              IV-GMM\n",
      "No. Observations                186                 186\n",
      "Cov. Est.                    robust              robust\n",
      "R-squared                    0.9995              0.9954\n",
      "Adj. R-squared               0.9995              0.9952\n",
      "F-statistic               4.547e+05           6.503e+04\n",
      "P-value (F-stat)             0.0000              0.0000\n",
      "==================     ============        ============\n",
      "selic_lag1                0.9723***           0.9149***\n",
      "                           (76.981)            (5.8348)\n",
      "JUROS_NATURAL                0.0536              0.4489\n",
      "                           (1.3617)            (0.6569)\n",
      "GAP_EXP_INF               0.2195***              0.3586\n",
      "                           (8.7101)            (1.5986)\n",
      "EXP_PIB                     -0.0266             -0.2871\n",
      "                          (-0.9926)           (-0.6363)\n",
      "LOSS_12:POS_CRED         -0.0089***          -0.0987***\n",
      "                          (-2.7632)           (-3.8042)\n",
      "NEG_CRED:LOSS_12          -0.0555**              1.0166\n",
      "                          (-2.2687)            (1.5353)\n",
      "==================== ============== ===================\n",
      "Instruments                                  selic_lag1\n",
      "                                             selic_lag2\n",
      "                                             selic_lag3\n",
      "                                             selic_lag4\n",
      "                                            IBC_BR_lag1\n",
      "                                            IBC_BR_lag2\n",
      "                                            IBC_BR_lag3\n",
      "                                            IBC_BR_lag4\n",
      "                                       COMMODITIES_lag1\n",
      "                                       COMMODITIES_lag2\n",
      "                                       COMMODITIES_lag3\n",
      "                                       COMMODITIES_lag4\n",
      "                                      gap_inflacao_lag1\n",
      "                                      gap_inflacao_lag2\n",
      "                                      gap_inflacao_lag3\n",
      "                                      gap_inflacao_lag4\n",
      "-------------------------------------------------------\n",
      "\n",
      "T-stats reported in parentheses\n"
     ]
    }
   ],
   "source": [
    "print(m3_comparison_table)"
   ]
  }
 ],
 "metadata": {
  "kernelspec": {
   "display_name": "research",
   "language": "python",
   "name": "python3"
  },
  "language_info": {
   "codemirror_mode": {
    "name": "ipython",
    "version": 3
   },
   "file_extension": ".py",
   "mimetype": "text/x-python",
   "name": "python",
   "nbconvert_exporter": "python",
   "pygments_lexer": "ipython3",
   "version": "3.9.18"
  }
 },
 "nbformat": 4,
 "nbformat_minor": 2
}
